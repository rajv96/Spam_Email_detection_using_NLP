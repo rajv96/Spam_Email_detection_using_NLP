{
 "cells": [
  {
   "cell_type": "markdown",
   "id": "f5efc820",
   "metadata": {},
   "source": [
    "**This project aims to classify an email into spam or ham. We'll be using natural language processing (NLP) for this task.**"
   ]
  },
  {
   "cell_type": "code",
   "execution_count": 1,
   "id": "69d0d79e",
   "metadata": {},
   "outputs": [],
   "source": [
    "#import the required libraries\n",
    "import numpy as np\n",
    "import pandas as pd\n",
    "import nltk\n",
    "import matplotlib.pyplot as plt\n",
    "import seaborn as sns\n",
    "%matplotlib inline\n",
    "from sklearn.model_selection import cross_val_score, KFold, train_test_split\n",
    "from sklearn.metrics import classification_report, confusion_matrix, accuracy_score, roc_auc_score\n",
    "from sklearn.pipeline import Pipeline\n",
    "#import CountVectorizer \n",
    "from sklearn.feature_extraction.text import CountVectorizer\n",
    "#import tfidftransformer\n",
    "from sklearn.feature_extraction.text import TfidfTransformer\n",
    "#import Multinomial Naive Bayes classifier\n",
    "from sklearn.naive_bayes import MultinomialNB\n",
    "#import decision tree classifier\n",
    "from sklearn.tree import DecisionTreeClassifier\n",
    "#import random forest classifier\n",
    "from sklearn.ensemble import RandomForestClassifier\n",
    "import string\n",
    "from nltk.corpus import stopwords"
   ]
  },
  {
   "cell_type": "code",
   "execution_count": 2,
   "id": "f6690d44",
   "metadata": {},
   "outputs": [
    {
     "data": {
      "text/html": [
       "<div>\n",
       "<style scoped>\n",
       "    .dataframe tbody tr th:only-of-type {\n",
       "        vertical-align: middle;\n",
       "    }\n",
       "\n",
       "    .dataframe tbody tr th {\n",
       "        vertical-align: top;\n",
       "    }\n",
       "\n",
       "    .dataframe thead th {\n",
       "        text-align: right;\n",
       "    }\n",
       "</style>\n",
       "<table border=\"1\" class=\"dataframe\">\n",
       "  <thead>\n",
       "    <tr style=\"text-align: right;\">\n",
       "      <th></th>\n",
       "      <th>subject</th>\n",
       "      <th>message</th>\n",
       "      <th>label</th>\n",
       "    </tr>\n",
       "  </thead>\n",
       "  <tbody>\n",
       "    <tr>\n",
       "      <th>0</th>\n",
       "      <td>job posting - apple-iss research center</td>\n",
       "      <td>content - length : 3386 apple-iss research cen...</td>\n",
       "      <td>0</td>\n",
       "    </tr>\n",
       "    <tr>\n",
       "      <th>1</th>\n",
       "      <td>NaN</td>\n",
       "      <td>lang classification grimes , joseph e . and ba...</td>\n",
       "      <td>0</td>\n",
       "    </tr>\n",
       "    <tr>\n",
       "      <th>2</th>\n",
       "      <td>query : letter frequencies for text identifica...</td>\n",
       "      <td>i am posting this inquiry for sergei atamas ( ...</td>\n",
       "      <td>0</td>\n",
       "    </tr>\n",
       "    <tr>\n",
       "      <th>3</th>\n",
       "      <td>risk</td>\n",
       "      <td>a colleague and i are researching the differin...</td>\n",
       "      <td>0</td>\n",
       "    </tr>\n",
       "    <tr>\n",
       "      <th>4</th>\n",
       "      <td>request book information</td>\n",
       "      <td>earlier this morning i was on the phone with a...</td>\n",
       "      <td>0</td>\n",
       "    </tr>\n",
       "  </tbody>\n",
       "</table>\n",
       "</div>"
      ],
      "text/plain": [
       "                                             subject  \\\n",
       "0            job posting - apple-iss research center   \n",
       "1                                                NaN   \n",
       "2  query : letter frequencies for text identifica...   \n",
       "3                                               risk   \n",
       "4                           request book information   \n",
       "\n",
       "                                             message  label  \n",
       "0  content - length : 3386 apple-iss research cen...      0  \n",
       "1  lang classification grimes , joseph e . and ba...      0  \n",
       "2  i am posting this inquiry for sergei atamas ( ...      0  \n",
       "3  a colleague and i are researching the differin...      0  \n",
       "4  earlier this morning i was on the phone with a...      0  "
      ]
     },
     "execution_count": 2,
     "metadata": {},
     "output_type": "execute_result"
    }
   ],
   "source": [
    "#load the dataset\n",
    "emails = pd.read_csv('emails.csv')\n",
    "emails.head()"
   ]
  },
  {
   "cell_type": "markdown",
   "id": "ee567cb0",
   "metadata": {},
   "source": [
    "We can see that the dataset contains columns as 'subject', 'message' and the 'label'\n",
    "\n",
    "Subject is the email subject\n",
    "\n",
    "message contains the body of the email\n",
    "\n",
    "label is target class where 0 indicates a non spam (ham) email and 1 indicates a spam email"
   ]
  },
  {
   "cell_type": "code",
   "execution_count": 3,
   "id": "f9209521",
   "metadata": {},
   "outputs": [
    {
     "data": {
      "text/plain": [
       "'job posting - apple-iss research center'"
      ]
     },
     "execution_count": 3,
     "metadata": {},
     "output_type": "execute_result"
    }
   ],
   "source": [
    "#let us have a look at some subjects and messages\n",
    "emails['subject'][0]"
   ]
  },
  {
   "cell_type": "code",
   "execution_count": 4,
   "id": "09543148",
   "metadata": {},
   "outputs": [
    {
     "data": {
      "text/plain": [
       "\"content - length : 3386 apple-iss research center a us $ 10 million joint venture between apple computer inc . and the institute of systems science of the national university of singapore , located in singapore , is looking for : a senior speech scientist - - - - - - - - - - - - - - - - - - - - - - - - - the successful candidate will have research expertise in computational linguistics , including natural language processing and * * english * * and * * chinese * * statistical language modeling . knowledge of state-of - the-art corpus-based n - gram language models , cache language models , and part-of - speech language models are required . a text - to - speech project leader - - - - - - - - - - - - - - - - - - - - - - - - - - - - - - - the successful candidate will have research expertise expertise in two or more of the following areas : computational linguistics , including natural language parsing , lexical database design , and statistical language modeling ; text tokenization and normalization ; prosodic analysis . substantial knowledge of the phonology , syntax , and semantics of chinese is required . knowledge of acoustic phonetics and / or speech signal processing is desirable . both candidates will have a phd with at least 2 to 4 years of relevant work experience , or a technical msc degree with at least 5 to 7 years of experienc e . very strong software engineering skills , including design and implementation , and productization are required in these positions . knowledge of c , c + + and unix are preferred . a unix & c programmer - - - - - - - - - - - - - - - - - - - - we are looking for an experienced unix & c programmer , preferably with good industry experience , to join us in breaking new frontiers . strong knowledge of unix tools ( compilers , linkers , make , x - windows , e - mac , . . . ) and experience in matlab required . sun and silicon graphic experience is an advantage . programmers with less than two years industry experience need not apply . these positions include interaction with scientists in the national university of singapore , and with apple 's speech research and productization efforts located in cupertino , california . attendance and publication in international scientific / engineering conferences is encouraged . benefits include an internationally competitive salary , housing subsidy , and relocation expenses . _ _ _ _ _ _ _ _ _ _ _ _ _ _ _ _ _ _ _ _ _ _ _ _ _ _ _ _ _ _ _ _ _ _ _ _ _ _ _ _ _ _ _ _ _ _ _ _ _ _ _ _ _ _ _ _ _ _ _ _ _ _ _ _ _ _ send a complete resume , enclosing personal particulars , qualifications , experience and contact telephone number to : mr jean - luc lebrun center manager apple - iss research center , institute of systems science heng mui keng terrace , singapore 0511 tel : ( 65 ) 772-6571 fax : ( 65 ) 776-4005 email : jllebrun @ iss . nus . sg\\n\""
      ]
     },
     "execution_count": 4,
     "metadata": {},
     "output_type": "execute_result"
    }
   ],
   "source": [
    "emails['message'][0]"
   ]
  },
  {
   "cell_type": "code",
   "execution_count": 5,
   "id": "28784a04",
   "metadata": {
    "scrolled": false
   },
   "outputs": [
    {
     "name": "stdout",
     "output_type": "stream",
     "text": [
      "<class 'pandas.core.frame.DataFrame'>\n",
      "RangeIndex: 2893 entries, 0 to 2892\n",
      "Data columns (total 3 columns):\n",
      " #   Column   Non-Null Count  Dtype \n",
      "---  ------   --------------  ----- \n",
      " 0   subject  2831 non-null   object\n",
      " 1   message  2893 non-null   object\n",
      " 2   label    2893 non-null   int64 \n",
      "dtypes: int64(1), object(2)\n",
      "memory usage: 67.9+ KB\n"
     ]
    }
   ],
   "source": [
    "emails.info()"
   ]
  },
  {
   "cell_type": "markdown",
   "id": "891f9633",
   "metadata": {},
   "source": [
    "By looking at the info, we can observe that the subject column contains some missing values"
   ]
  },
  {
   "cell_type": "code",
   "execution_count": 6,
   "id": "0d8d78f6",
   "metadata": {},
   "outputs": [
    {
     "data": {
      "text/plain": [
       "(2893, 3)"
      ]
     },
     "execution_count": 6,
     "metadata": {},
     "output_type": "execute_result"
    }
   ],
   "source": [
    "#check the shape of the dataset\n",
    "emails.shape"
   ]
  },
  {
   "cell_type": "markdown",
   "id": "c00a83dc",
   "metadata": {},
   "source": [
    "As we can see, the dataset contains 2893 records of emails and 3 columns."
   ]
  },
  {
   "cell_type": "markdown",
   "id": "646f06d8",
   "metadata": {},
   "source": [
    "### Exploratory Data Analysis"
   ]
  },
  {
   "cell_type": "code",
   "execution_count": 7,
   "id": "fc997840",
   "metadata": {},
   "outputs": [
    {
     "data": {
      "text/html": [
       "<div>\n",
       "<style scoped>\n",
       "    .dataframe tbody tr th:only-of-type {\n",
       "        vertical-align: middle;\n",
       "    }\n",
       "\n",
       "    .dataframe tbody tr th {\n",
       "        vertical-align: top;\n",
       "    }\n",
       "\n",
       "    .dataframe thead th {\n",
       "        text-align: right;\n",
       "    }\n",
       "</style>\n",
       "<table border=\"1\" class=\"dataframe\">\n",
       "  <thead>\n",
       "    <tr style=\"text-align: right;\">\n",
       "      <th></th>\n",
       "      <th>subject</th>\n",
       "      <th>message</th>\n",
       "      <th>label</th>\n",
       "    </tr>\n",
       "  </thead>\n",
       "  <tbody>\n",
       "    <tr>\n",
       "      <th>count</th>\n",
       "      <td>2831</td>\n",
       "      <td>2893</td>\n",
       "      <td>2893.000000</td>\n",
       "    </tr>\n",
       "    <tr>\n",
       "      <th>unique</th>\n",
       "      <td>2613</td>\n",
       "      <td>2859</td>\n",
       "      <td>NaN</td>\n",
       "    </tr>\n",
       "    <tr>\n",
       "      <th>top</th>\n",
       "      <td>sociolinguistics</td>\n",
       "      <td>this is not spam ; you are receiving this mess...</td>\n",
       "      <td>NaN</td>\n",
       "    </tr>\n",
       "    <tr>\n",
       "      <th>freq</th>\n",
       "      <td>8</td>\n",
       "      <td>5</td>\n",
       "      <td>NaN</td>\n",
       "    </tr>\n",
       "    <tr>\n",
       "      <th>mean</th>\n",
       "      <td>NaN</td>\n",
       "      <td>NaN</td>\n",
       "      <td>0.166263</td>\n",
       "    </tr>\n",
       "    <tr>\n",
       "      <th>std</th>\n",
       "      <td>NaN</td>\n",
       "      <td>NaN</td>\n",
       "      <td>0.372381</td>\n",
       "    </tr>\n",
       "    <tr>\n",
       "      <th>min</th>\n",
       "      <td>NaN</td>\n",
       "      <td>NaN</td>\n",
       "      <td>0.000000</td>\n",
       "    </tr>\n",
       "    <tr>\n",
       "      <th>25%</th>\n",
       "      <td>NaN</td>\n",
       "      <td>NaN</td>\n",
       "      <td>0.000000</td>\n",
       "    </tr>\n",
       "    <tr>\n",
       "      <th>50%</th>\n",
       "      <td>NaN</td>\n",
       "      <td>NaN</td>\n",
       "      <td>0.000000</td>\n",
       "    </tr>\n",
       "    <tr>\n",
       "      <th>75%</th>\n",
       "      <td>NaN</td>\n",
       "      <td>NaN</td>\n",
       "      <td>0.000000</td>\n",
       "    </tr>\n",
       "    <tr>\n",
       "      <th>max</th>\n",
       "      <td>NaN</td>\n",
       "      <td>NaN</td>\n",
       "      <td>1.000000</td>\n",
       "    </tr>\n",
       "  </tbody>\n",
       "</table>\n",
       "</div>"
      ],
      "text/plain": [
       "                 subject                                            message  \\\n",
       "count               2831                                               2893   \n",
       "unique              2613                                               2859   \n",
       "top     sociolinguistics  this is not spam ; you are receiving this mess...   \n",
       "freq                   8                                                  5   \n",
       "mean                 NaN                                                NaN   \n",
       "std                  NaN                                                NaN   \n",
       "min                  NaN                                                NaN   \n",
       "25%                  NaN                                                NaN   \n",
       "50%                  NaN                                                NaN   \n",
       "75%                  NaN                                                NaN   \n",
       "max                  NaN                                                NaN   \n",
       "\n",
       "              label  \n",
       "count   2893.000000  \n",
       "unique          NaN  \n",
       "top             NaN  \n",
       "freq            NaN  \n",
       "mean       0.166263  \n",
       "std        0.372381  \n",
       "min        0.000000  \n",
       "25%        0.000000  \n",
       "50%        0.000000  \n",
       "75%        0.000000  \n",
       "max        1.000000  "
      ]
     },
     "execution_count": 7,
     "metadata": {},
     "output_type": "execute_result"
    }
   ],
   "source": [
    "emails.describe(include='all')"
   ]
  },
  {
   "cell_type": "code",
   "execution_count": 8,
   "id": "08e7096f",
   "metadata": {},
   "outputs": [
    {
     "data": {
      "text/html": [
       "<div>\n",
       "<style scoped>\n",
       "    .dataframe tbody tr th:only-of-type {\n",
       "        vertical-align: middle;\n",
       "    }\n",
       "\n",
       "    .dataframe tbody tr th {\n",
       "        vertical-align: top;\n",
       "    }\n",
       "\n",
       "    .dataframe thead tr th {\n",
       "        text-align: left;\n",
       "    }\n",
       "\n",
       "    .dataframe thead tr:last-of-type th {\n",
       "        text-align: right;\n",
       "    }\n",
       "</style>\n",
       "<table border=\"1\" class=\"dataframe\">\n",
       "  <thead>\n",
       "    <tr>\n",
       "      <th></th>\n",
       "      <th colspan=\"4\" halign=\"left\">subject</th>\n",
       "      <th colspan=\"4\" halign=\"left\">message</th>\n",
       "    </tr>\n",
       "    <tr>\n",
       "      <th></th>\n",
       "      <th>count</th>\n",
       "      <th>unique</th>\n",
       "      <th>top</th>\n",
       "      <th>freq</th>\n",
       "      <th>count</th>\n",
       "      <th>unique</th>\n",
       "      <th>top</th>\n",
       "      <th>freq</th>\n",
       "    </tr>\n",
       "    <tr>\n",
       "      <th>label</th>\n",
       "      <th></th>\n",
       "      <th></th>\n",
       "      <th></th>\n",
       "      <th></th>\n",
       "      <th></th>\n",
       "      <th></th>\n",
       "      <th></th>\n",
       "      <th></th>\n",
       "    </tr>\n",
       "  </thead>\n",
       "  <tbody>\n",
       "    <tr>\n",
       "      <th>0</th>\n",
       "      <td>2363</td>\n",
       "      <td>2193</td>\n",
       "      <td>sociolinguistics</td>\n",
       "      <td>8</td>\n",
       "      <td>2412</td>\n",
       "      <td>2401</td>\n",
       "      <td>names , the journal of the american name socie...</td>\n",
       "      <td>2</td>\n",
       "    </tr>\n",
       "    <tr>\n",
       "      <th>1</th>\n",
       "      <td>468</td>\n",
       "      <td>420</td>\n",
       "      <td>re :</td>\n",
       "      <td>7</td>\n",
       "      <td>481</td>\n",
       "      <td>458</td>\n",
       "      <td>this is not spam ; you are receiving this mess...</td>\n",
       "      <td>5</td>\n",
       "    </tr>\n",
       "  </tbody>\n",
       "</table>\n",
       "</div>"
      ],
      "text/plain": [
       "      subject                               message         \\\n",
       "        count unique               top freq   count unique   \n",
       "label                                                        \n",
       "0        2363   2193  sociolinguistics    8    2412   2401   \n",
       "1         468    420              re :    7     481    458   \n",
       "\n",
       "                                                               \n",
       "                                                     top freq  \n",
       "label                                                          \n",
       "0      names , the journal of the american name socie...    2  \n",
       "1      this is not spam ; you are receiving this mess...    5  "
      ]
     },
     "execution_count": 8,
     "metadata": {},
     "output_type": "execute_result"
    }
   ],
   "source": [
    "emails.groupby('label').describe()"
   ]
  },
  {
   "cell_type": "markdown",
   "id": "5b66536d",
   "metadata": {},
   "source": [
    "Here, we can observe that interesting the spam messages contain the words 'this is not spam'."
   ]
  },
  {
   "cell_type": "code",
   "execution_count": 9,
   "id": "9e4b825f",
   "metadata": {},
   "outputs": [
    {
     "data": {
      "text/plain": [
       "0    2412\n",
       "1     481\n",
       "Name: label, dtype: int64"
      ]
     },
     "execution_count": 9,
     "metadata": {},
     "output_type": "execute_result"
    }
   ],
   "source": [
    "#check distribution of the target class\n",
    "emails['label'].value_counts()"
   ]
  },
  {
   "cell_type": "code",
   "execution_count": 10,
   "id": "fdd3ad62",
   "metadata": {},
   "outputs": [
    {
     "data": {
      "text/plain": [
       "<matplotlib.axes._subplots.AxesSubplot at 0x250a29ddcc8>"
      ]
     },
     "execution_count": 10,
     "metadata": {},
     "output_type": "execute_result"
    },
    {
     "data": {
      "image/png": "[encoded data removed]",
      "text/plain": [
       "<Figure size 432x288 with 1 Axes>"
      ]
     },
     "metadata": {
      "needs_background": "light"
     },
     "output_type": "display_data"
    }
   ],
   "source": [
    "emails['label'].value_counts().plot(kind='bar')"
   ]
  },
  {
   "cell_type": "markdown",
   "id": "25f95b88",
   "metadata": {},
   "source": [
    "We can see that the target classes are imbalanced with more instances of ham emails than spam emails with the ratio being approx. equal to 5:1 in that order."
   ]
  },
  {
   "cell_type": "code",
   "execution_count": 11,
   "id": "4e5b224f",
   "metadata": {},
   "outputs": [
    {
     "data": {
      "text/plain": [
       "subject    62\n",
       "message     0\n",
       "label       0\n",
       "dtype: int64"
      ]
     },
     "execution_count": 11,
     "metadata": {},
     "output_type": "execute_result"
    }
   ],
   "source": [
    "#let us have a look whether we have missing data or not\n",
    "emails.isnull().sum()"
   ]
  },
  {
   "cell_type": "markdown",
   "id": "5623eb5e",
   "metadata": {},
   "source": [
    "As we can see, we have 62 instances of missing data in the subject column\n",
    "\n",
    "This means that 62 emails are not having any subject line for the email. \n",
    "\n",
    "As of now, we'll be keeping these records as is, as we'll only focus on the email message part."
   ]
  },
  {
   "cell_type": "code",
   "execution_count": 12,
   "id": "bd4a5fb5",
   "metadata": {},
   "outputs": [
    {
     "data": {
      "text/html": [
       "<div>\n",
       "<style scoped>\n",
       "    .dataframe tbody tr th:only-of-type {\n",
       "        vertical-align: middle;\n",
       "    }\n",
       "\n",
       "    .dataframe tbody tr th {\n",
       "        vertical-align: top;\n",
       "    }\n",
       "\n",
       "    .dataframe thead th {\n",
       "        text-align: right;\n",
       "    }\n",
       "</style>\n",
       "<table border=\"1\" class=\"dataframe\">\n",
       "  <thead>\n",
       "    <tr style=\"text-align: right;\">\n",
       "      <th></th>\n",
       "      <th>subject</th>\n",
       "      <th>message</th>\n",
       "      <th>label</th>\n",
       "      <th>length</th>\n",
       "    </tr>\n",
       "  </thead>\n",
       "  <tbody>\n",
       "    <tr>\n",
       "      <th>0</th>\n",
       "      <td>job posting - apple-iss research center</td>\n",
       "      <td>content - length : 3386 apple-iss research cen...</td>\n",
       "      <td>0</td>\n",
       "      <td>2856</td>\n",
       "    </tr>\n",
       "    <tr>\n",
       "      <th>1</th>\n",
       "      <td>NaN</td>\n",
       "      <td>lang classification grimes , joseph e . and ba...</td>\n",
       "      <td>0</td>\n",
       "      <td>1800</td>\n",
       "    </tr>\n",
       "    <tr>\n",
       "      <th>2</th>\n",
       "      <td>query : letter frequencies for text identifica...</td>\n",
       "      <td>i am posting this inquiry for sergei atamas ( ...</td>\n",
       "      <td>0</td>\n",
       "      <td>1435</td>\n",
       "    </tr>\n",
       "    <tr>\n",
       "      <th>3</th>\n",
       "      <td>risk</td>\n",
       "      <td>a colleague and i are researching the differin...</td>\n",
       "      <td>0</td>\n",
       "      <td>324</td>\n",
       "    </tr>\n",
       "    <tr>\n",
       "      <th>4</th>\n",
       "      <td>request book information</td>\n",
       "      <td>earlier this morning i was on the phone with a...</td>\n",
       "      <td>0</td>\n",
       "      <td>1046</td>\n",
       "    </tr>\n",
       "  </tbody>\n",
       "</table>\n",
       "</div>"
      ],
      "text/plain": [
       "                                             subject  \\\n",
       "0            job posting - apple-iss research center   \n",
       "1                                                NaN   \n",
       "2  query : letter frequencies for text identifica...   \n",
       "3                                               risk   \n",
       "4                           request book information   \n",
       "\n",
       "                                             message  label  length  \n",
       "0  content - length : 3386 apple-iss research cen...      0    2856  \n",
       "1  lang classification grimes , joseph e . and ba...      0    1800  \n",
       "2  i am posting this inquiry for sergei atamas ( ...      0    1435  \n",
       "3  a colleague and i are researching the differin...      0     324  \n",
       "4  earlier this morning i was on the phone with a...      0    1046  "
      ]
     },
     "execution_count": 12,
     "metadata": {},
     "output_type": "execute_result"
    }
   ],
   "source": [
    "#let us create a new column to check the length of the email messages\n",
    "emails['length'] = emails['message'].apply(len)\n",
    "emails.head()"
   ]
  },
  {
   "cell_type": "code",
   "execution_count": 13,
   "id": "595b3258",
   "metadata": {},
   "outputs": [
    {
     "data": {
      "image/png": "[encoded data removed]",
      "text/plain": [
       "<Figure size 864x288 with 2 Axes>"
      ]
     },
     "metadata": {
      "needs_background": "light"
     },
     "output_type": "display_data"
    }
   ],
   "source": [
    "#let us visualize the length column based on the label column\n",
    "emails.hist(column='length', by='label', bins=50, figsize=(12,4))\n",
    "plt.show()"
   ]
  },
  {
   "cell_type": "markdown",
   "id": "0391ed60",
   "metadata": {},
   "source": [
    "We can observe that the distribution is similar for both classes."
   ]
  },
  {
   "cell_type": "markdown",
   "id": "cc2657ef",
   "metadata": {},
   "source": [
    "### Text Pre-Processing "
   ]
  },
  {
   "cell_type": "code",
   "execution_count": 14,
   "id": "7710c143",
   "metadata": {},
   "outputs": [],
   "source": [
    "#let us define a function to remove all punctuations and stopwords from our email message\n",
    "def text_process(mess):\n",
    "    \n",
    "    \"\"\"Takes in a string of text, then performs the following:\n",
    "    1. Remove all punctuation\n",
    "    2. Remove all stopwords\n",
    "    3. Returns a list of the cleaned text\n",
    "    \"\"\"\n",
    "    \n",
    "    #remove characters that are punctuations with the string library\n",
    "    nopunc = [char for char in mess if char not in string.punctuation]\n",
    "    \n",
    "    #join characters to form a string\n",
    "    nopunc = ''.join(nopunc)\n",
    "    \n",
    "    #remove the stopwords\n",
    "    return [word for word in nopunc.split() if word.lower() not in stopwords.words('english')]"
   ]
  },
  {
   "cell_type": "code",
   "execution_count": 15,
   "id": "c47cfa14",
   "metadata": {
    "scrolled": true
   },
   "outputs": [
    {
     "data": {
      "text/plain": [
       "0       [content, length, 3386, appleiss, research, ce...\n",
       "1       [lang, classification, grimes, joseph, e, barb...\n",
       "2       [posting, inquiry, sergei, atamas, satamas, um...\n",
       "3       [colleague, researching, differing, degrees, r...\n",
       "4       [earlier, morning, phone, friend, mine, living...\n",
       "                              ...                        \n",
       "2888    [hello, thanks, stopping, taken, many, new, pi...\n",
       "2889    [list, owner, kiddin, invited, join, mailing, ...\n",
       "2890    [judging, return, post, must, sounded, like, k...\n",
       "2891    [gotcha, two, separate, fallacies, argument, n...\n",
       "2892    [hello, working, thesis, concerning, attitudes...\n",
       "Name: message, Length: 2893, dtype: object"
      ]
     },
     "execution_count": 15,
     "metadata": {},
     "output_type": "execute_result"
    }
   ],
   "source": [
    "#apply the function on the message column to check\n",
    "emails['message'].apply(text_process)"
   ]
  },
  {
   "cell_type": "markdown",
   "id": "15affc95",
   "metadata": {},
   "source": [
    "**Train test split**"
   ]
  },
  {
   "cell_type": "code",
   "execution_count": 16,
   "id": "53aaaaef",
   "metadata": {
    "scrolled": true
   },
   "outputs": [
    {
     "name": "stdout",
     "output_type": "stream",
     "text": [
      "2314 579 2314 579\n"
     ]
    }
   ],
   "source": [
    "#perform a 80:20 train test split on the data\n",
    "msg_train, msg_test, label_train, label_test = train_test_split(emails['message'], emails['label'], test_size=0.2, \n",
    "                                                                random_state=10)\n",
    "\n",
    "#check the lengths of the splits\n",
    "print(len(msg_train), len(msg_test), len(label_train), len(label_test))"
   ]
  },
  {
   "cell_type": "markdown",
   "id": "aea710d4",
   "metadata": {},
   "source": [
    "Next we have to have to perform:\n",
    "1. convert strings to integer counts for the sklearn algorithms to work on\n",
    "2. convert the integer counts to weighted TF-IDF scores\n",
    "3. train on TF-IDF vectors w.r.t ML classifiers. "
   ]
  },
  {
   "cell_type": "markdown",
   "id": "bd14878a",
   "metadata": {},
   "source": [
    "### Creating a data pipeline and Model Building"
   ]
  },
  {
   "cell_type": "markdown",
   "id": "0317a9b6",
   "metadata": {},
   "source": [
    "We will use SciKit Learn's pipeline capabilities to store a pipeline of workflow. This will allow us to set up all the transformations that we will do to the data for future use"
   ]
  },
  {
   "cell_type": "markdown",
   "id": "b530f6ba",
   "metadata": {},
   "source": [
    "We'll first train our model and check our scores on the **Multinomial Naive bayes classifier**"
   ]
  },
  {
   "cell_type": "code",
   "execution_count": 17,
   "id": "6c9779f3",
   "metadata": {},
   "outputs": [],
   "source": [
    "#create the pipeline for Multinomial NB classifier\n",
    "pipeline_NB = Pipeline([\n",
    "    ('bow', CountVectorizer(analyzer=text_process)),\n",
    "    ('tfidf', TfidfTransformer()),\n",
    "    ('classifier', MultinomialNB())\n",
    "])"
   ]
  },
  {
   "cell_type": "code",
   "execution_count": 18,
   "id": "48bd45a7",
   "metadata": {
    "scrolled": true
   },
   "outputs": [
    {
     "data": {
      "text/plain": [
       "Pipeline(steps=[('bow',\n",
       "                 CountVectorizer(analyzer=<function text_process at 0x00000250A7FFCDC8>)),\n",
       "                ('tfidf', TfidfTransformer()),\n",
       "                ('classifier', MultinomialNB())])"
      ]
     },
     "execution_count": 18,
     "metadata": {},
     "output_type": "execute_result"
    }
   ],
   "source": [
    "#fit the model on train data\n",
    "pipeline_NB.fit(msg_train, label_train)"
   ]
  },
  {
   "cell_type": "code",
   "execution_count": 19,
   "id": "c2109f3d",
   "metadata": {},
   "outputs": [],
   "source": [
    "#set the no of splits on train data for cross validation\n",
    "kf = KFold(n_splits=3, shuffle=True, random_state=10)"
   ]
  },
  {
   "cell_type": "code",
   "execution_count": 20,
   "id": "8455355a",
   "metadata": {},
   "outputs": [
    {
     "name": "stdout",
     "output_type": "stream",
     "text": [
      "Multinomial NB scores: [0.99716218 0.99533714 0.99619816]\n",
      "Multinomial NB Bias error: 0.0037675055930894708\n",
      "Multinomial NB Variance error: 0.0009130043199039761\n"
     ]
    }
   ],
   "source": [
    "#we will now use cross validation to avoid causing overfitting on our NB model\n",
    "scores_NB = cross_val_score(pipeline_NB, msg_train, label_train, cv=kf, scoring='roc_auc', n_jobs=1)\n",
    "\n",
    "print(\"Multinomial NB scores:\", scores_NB)\n",
    "print(\"Multinomial NB Bias error:\", 1 - np.mean(scores_NB))\n",
    "print(\"Multinomial NB Variance error:\", np.std(scores_NB, ddof=1))"
   ]
  },
  {
   "cell_type": "markdown",
   "id": "a973c0b9",
   "metadata": {},
   "source": [
    "We have acheived ROC scores of 99. Let us predict on the test set"
   ]
  },
  {
   "cell_type": "code",
   "execution_count": 21,
   "id": "bc7b5a26",
   "metadata": {},
   "outputs": [],
   "source": [
    "y_pred_NB = pipeline_NB.predict(msg_test)"
   ]
  },
  {
   "cell_type": "code",
   "execution_count": 22,
   "id": "1f124243",
   "metadata": {},
   "outputs": [
    {
     "name": "stdout",
     "output_type": "stream",
     "text": [
      "ROC score on test set for Multinomial NB model: 0.9990319865319865\n"
     ]
    }
   ],
   "source": [
    "print(\"ROC score on test set for Multinomial NB model:\", roc_auc_score(label_test, \n",
    "                                                                       pipeline_NB.predict_proba(msg_test)[:,1]))"
   ]
  },
  {
   "cell_type": "markdown",
   "id": "a158933e",
   "metadata": {},
   "source": [
    "We can have achieved good scores on the test data as well. \n",
    "\n",
    "Let us try and experiment with a decision tree classifier."
   ]
  },
  {
   "cell_type": "markdown",
   "id": "984757bd",
   "metadata": {},
   "source": [
    "### Decision tree classifier"
   ]
  },
  {
   "cell_type": "markdown",
   "id": "b3f3cec0",
   "metadata": {},
   "source": [
    "Let us train our model on the decision tree classifier"
   ]
  },
  {
   "cell_type": "code",
   "execution_count": 23,
   "id": "36a5c1bc",
   "metadata": {},
   "outputs": [],
   "source": [
    "#initialize the pipeline\n",
    "\n",
    "pipeline_DT = Pipeline([\n",
    "    ('bow', CountVectorizer(analyzer=text_process)),\n",
    "    ('tfidf', TfidfTransformer()),\n",
    "    ('classifier', DecisionTreeClassifier(random_state=10))\n",
    "])"
   ]
  },
  {
   "cell_type": "code",
   "execution_count": 24,
   "id": "d573858f",
   "metadata": {},
   "outputs": [
    {
     "data": {
      "text/plain": [
       "Pipeline(steps=[('bow',\n",
       "                 CountVectorizer(analyzer=<function text_process at 0x00000250A7FFCDC8>)),\n",
       "                ('tfidf', TfidfTransformer()),\n",
       "                ('classifier', DecisionTreeClassifier(random_state=10))])"
      ]
     },
     "execution_count": 24,
     "metadata": {},
     "output_type": "execute_result"
    }
   ],
   "source": [
    "#fit the model on train data\n",
    "pipeline_DT.fit(msg_train, label_train)"
   ]
  },
  {
   "cell_type": "code",
   "execution_count": 25,
   "id": "a56cd74c",
   "metadata": {},
   "outputs": [
    {
     "name": "stdout",
     "output_type": "stream",
     "text": [
      "DTC scores: [0.91809205 0.86838783 0.91490015]\n",
      "DTC Bias error: 0.09953998888420357\n",
      "DTC Variance error: 0.02782114068183381\n"
     ]
    }
   ],
   "source": [
    "#use cross validation and print the scores\n",
    "scores_DT = cross_val_score(pipeline_DT, msg_train, label_train, cv=kf, scoring='roc_auc', n_jobs=1)\n",
    "\n",
    "print(\"DTC scores:\", scores_DT)\n",
    "print(\"DTC Bias error:\", 1 - np.mean(scores_DT))\n",
    "print(\"DTC Variance error:\", np.std(scores_DT, ddof=1))"
   ]
  },
  {
   "cell_type": "markdown",
   "id": "3a40aa14",
   "metadata": {},
   "source": [
    "We have achieved roc auc score of 0.91 on the train set."
   ]
  },
  {
   "cell_type": "code",
   "execution_count": 26,
   "id": "bcf81812",
   "metadata": {},
   "outputs": [
    {
     "name": "stdout",
     "output_type": "stream",
     "text": [
      "ROC score on test set: 0.9194444444444444\n"
     ]
    }
   ],
   "source": [
    "#predicting score on test set\n",
    "y_pred_DT = pipeline_DT.predict(msg_test)\n",
    "\n",
    "print(\"ROC score on test set:\", roc_auc_score(label_test, pipeline_DT.predict_proba(msg_test)[:,1]))"
   ]
  },
  {
   "cell_type": "markdown",
   "id": "0a56d9b3",
   "metadata": {},
   "source": [
    "The ROC AUC score on the test set is 0.91.\n",
    "\n",
    "Lets check with a random forest classifier for better scores"
   ]
  },
  {
   "cell_type": "markdown",
   "id": "965a87c5",
   "metadata": {},
   "source": [
    "### Random Forest Classifier"
   ]
  },
  {
   "cell_type": "code",
   "execution_count": 27,
   "id": "3be4088e",
   "metadata": {},
   "outputs": [],
   "source": [
    "#initialize the pipeline\n",
    "pipeline_RF = Pipeline([\n",
    "    ('bow', CountVectorizer(analyzer=text_process)),\n",
    "    ('tfidf', TfidfTransformer()),\n",
    "    ('classifier', RandomForestClassifier(n_estimators=50, class_weight='balanced', random_state=10))\n",
    "])"
   ]
  },
  {
   "cell_type": "code",
   "execution_count": 28,
   "id": "b8143f14",
   "metadata": {},
   "outputs": [
    {
     "data": {
      "text/plain": [
       "Pipeline(steps=[('bow',\n",
       "                 CountVectorizer(analyzer=<function text_process at 0x00000250A7FFCDC8>)),\n",
       "                ('tfidf', TfidfTransformer()),\n",
       "                ('classifier',\n",
       "                 RandomForestClassifier(class_weight='balanced',\n",
       "                                        n_estimators=50, random_state=10))])"
      ]
     },
     "execution_count": 28,
     "metadata": {},
     "output_type": "execute_result"
    }
   ],
   "source": [
    "#fit the model on train data\n",
    "pipeline_RF.fit(msg_train, label_train)"
   ]
  },
  {
   "cell_type": "code",
   "execution_count": 29,
   "id": "bf8c488c",
   "metadata": {
    "scrolled": true
   },
   "outputs": [
    {
     "name": "stdout",
     "output_type": "stream",
     "text": [
      "RFC scores: [0.99902167 0.99925793 0.99975678]\n",
      "RFC Bias error: 0.0006545398325435992\n",
      "RFC Variance error: 0.00037529447500616746\n"
     ]
    }
   ],
   "source": [
    "#use cross validation and print the scores\n",
    "scores_RF = cross_val_score(pipeline_RF, msg_train, label_train, cv=kf, scoring='roc_auc', n_jobs=1)\n",
    "\n",
    "print(\"RFC scores:\", scores_RF)\n",
    "print(\"RFC Bias error:\", 1 - np.mean(scores_RF))\n",
    "print(\"RFC Variance error:\", np.std(scores_RF, ddof=1))"
   ]
  },
  {
   "cell_type": "markdown",
   "id": "810c17d5",
   "metadata": {},
   "source": [
    "We have achieved a mean roc score 0.99 on the train set."
   ]
  },
  {
   "cell_type": "code",
   "execution_count": 30,
   "id": "cfb900b9",
   "metadata": {},
   "outputs": [
    {
     "name": "stdout",
     "output_type": "stream",
     "text": [
      "ROC score on test set: 0.999810606060606\n"
     ]
    }
   ],
   "source": [
    "#predicting score on test set\n",
    "y_pred = pipeline_RF.predict(msg_test)\n",
    "\n",
    "print(\"ROC score on test set:\", roc_auc_score(label_test, pipeline_RF.predict_proba(msg_test)[:,1]))"
   ]
  },
  {
   "cell_type": "markdown",
   "id": "a6142238",
   "metadata": {},
   "source": [
    "The ROC score on the test set is 0.99."
   ]
  },
  {
   "cell_type": "code",
   "execution_count": 33,
   "id": "fb75c0c7",
   "metadata": {},
   "outputs": [
    {
     "name": "stdout",
     "output_type": "stream",
     "text": [
      "[[483   1]\n",
      " [  5  90]]\n"
     ]
    }
   ],
   "source": [
    "print(confusion_matrix(label_test, y_pred))"
   ]
  },
  {
   "cell_type": "code",
   "execution_count": 31,
   "id": "76a61b82",
   "metadata": {},
   "outputs": [
    {
     "name": "stdout",
     "output_type": "stream",
     "text": [
      "              precision    recall  f1-score   support\n",
      "\n",
      "           0       0.97      1.00      0.99       480\n",
      "           1       1.00      0.87      0.93        99\n",
      "\n",
      "    accuracy                           0.98       579\n",
      "   macro avg       0.99      0.93      0.96       579\n",
      "weighted avg       0.98      0.98      0.98       579\n",
      "\n"
     ]
    }
   ],
   "source": [
    "print(classification_report(label_test, y_pred))"
   ]
  },
  {
   "cell_type": "code",
   "execution_count": null,
   "id": "d05acfea",
   "metadata": {},
   "outputs": [],
   "source": [
    "#We can now infer that the Multinomial Naive Bayes and Random forest are the two best models."
   ]
  }
 ],
 "metadata": {
  "kernelspec": {
   "display_name": "Python 3 (ipykernel)",
   "language": "python",
   "name": "python3"
  },
  "language_info": {
   "codemirror_mode": {
    "name": "ipython",
    "version": 3
   },
   "file_extension": ".py",
   "mimetype": "text/x-python",
   "name": "python",
   "nbconvert_exporter": "python",
   "pygments_lexer": "ipython3",
   "version": "3.7.6"
  }
 },
 "nbformat": 4,
 "nbformat_minor": 5
}
